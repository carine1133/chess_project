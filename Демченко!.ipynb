{
  "cells": [
    {
      "cell_type": "markdown",
      "source": [
        "## Демченко\n",
        "## Вариант 2\n",
        "## ТРПО24-1"
      ],
      "metadata": {
        "id": "sT0CfpZwueM2"
      }
    },
    {
      "cell_type": "markdown",
      "source": [
        "Создайте программу для работы с автобусами, используйте все свойства ООП.\n",
        "Автобусы: междугородний автобус, городской автобус, маршрутное такси (маленький автобус).\n",
        "Маршрутное такси (маленький автобус) является дочернем городского автобуса.\n",
        "Автобусы хранят информации об номере маршрута, количество пассажиров, курс движения\n",
        "(откуда и куда), максимальное вместимость, расход топливо, длина маршрута.\n",
        "Атрибут максимальная вместимость – является приватным."
      ],
      "metadata": {
        "id": "Imlyu5Mzulty"
      }
    },
    {
      "cell_type": "code",
      "source": [
        "class Bus:\n",
        "    '''класс автобусов'''\n",
        "    all_buses = []\n",
        "\n",
        "    def __init__(self, number, count_of_passengers, route_from, route_to, max_capacity, gas, length):\n",
        "        self.number = number\n",
        "        self.count_of_passengers = count_of_passengers\n",
        "        self.route_from = route_from\n",
        "        self.route_to = route_to\n",
        "        self.__max_capacity = max_capacity\n",
        "        self.gas = gas\n",
        "        self.length = length\n",
        "\n",
        "        if count_of_passengers > max_capacity:\n",
        "            raise ValueError(\n",
        "                f\"невозможно создать автобус: количество пассажиров ({count_of_passengers}) \"\n",
        "                f\"превышает максимальную вместимость ({max_capacity})\"\n",
        "            )\n",
        "        Bus.all_buses.append(self)\n",
        "\n",
        "    def calculate_fuel_consumption(self):\n",
        "        '''метод для подсчета количества топлива по заданному маршруту'''\n",
        "        return self.gas * self.length\n",
        "\n",
        "    def __lt__(self, other):\n",
        "        return self.__max_capacity < other.__max_capacity\n",
        "\n",
        "    def __le__(self, other):\n",
        "        return self.__max_capacity <= other.__max_capacity\n",
        "\n",
        "    def __eq__(self, other):\n",
        "        return self.__max_capacity == other.__max_capacity\n",
        "\n",
        "    def __ne__(self, other):\n",
        "        return self.__max_capacity != other.__max_capacity\n",
        "\n",
        "    def __gt__(self, other):\n",
        "        return self.__max_capacity > other.__max_capacity\n",
        "\n",
        "    def __ge__(self, other):\n",
        "        return self.__max_capacity >= other.__max_capacity\n",
        "\n",
        "    @classmethod\n",
        "    def get_average_load(Bus):\n",
        "        \"\"\"метод класса для расчета средней загрузки всех автобусов\"\"\"\n",
        "        if not Bus.all_buses:\n",
        "            return 0.0\n",
        "\n",
        "        total_passengers = sum(bus.count_of_passengers for bus in Bus.all_buses)\n",
        "        total_capacity = sum(bus._Bus__max_capacity for bus in Bus.all_buses)\n",
        "\n",
        "        return (total_passengers / total_capacity) * 100\n",
        "\n",
        "    @staticmethod\n",
        "    def check_load(bus, expected_load_percent):\n",
        "        \"\"\"\n",
        "        проверяет, соответствует ли текущая загрузка автобуса ожидаемой\n",
        "        :param bus: объект автобуса\n",
        "        :param expected_load_percent: ожидаемая загрузка в процентах (0-100)\n",
        "        :return: True если загрузка совпадает (с допуском ±1%), иначе False\n",
        "        \"\"\"\n",
        "        current_load = (bus.count_of_passengers / bus._Bus__max_capacity) * 100\n",
        "        return abs(current_load - expected_load_percent) <= 1.0\n",
        "\n",
        "    def __str__(self):\n",
        "        '''неформальное строковое представление объекта'''\n",
        "        return (\n",
        "            f\"автобус №{self.number}\\n\"\n",
        "            f\"маршрут: {self.route_from} → {self.route_to}\\n\"\n",
        "            f\"пассажиров: {self.count_of_passengers}/{self._Bus__max_capacity}\\n\"\n",
        "            f\"расход топлива: {self.gas} л/км\\n\"\n",
        "            f\"длина маршрута: {self.length} км\"\n",
        "        )\n",
        "\n",
        "    def __repr__(self):\n",
        "        '''формальное строковое представление'''\n",
        "        return f\"Bus(number={self.number}, route='{self.route_from} → {self.route_to}')\"\n",
        "\n",
        "\n",
        "class Taxi(Bus):\n",
        "    '''дочерний класс такси'''\n",
        "    def __init__(self, number, count_of_passengers, route_from, route_to, max_capacity, gas, length):\n",
        "        super().__init__(number, count_of_passengers, route_from, route_to, max_capacity, gas, length)\n",
        "        self.is_child_seat_available = False\n",
        "\n",
        "    def __str__(self):\n",
        "        '''неформальное строковое представление для такси'''\n",
        "        return (\n",
        "            f\"такси №{self.number}\\n\"\n",
        "            f\"маршрут: {self.route_from} → {self.route_to}\\n\"\n",
        "            f\"пассажиров: {self.count_of_passengers}/{self._Bus__max_capacity}\\n\"\n",
        "            f\"детское кресло: {'да' if self.is_child_seat_available else 'нет'}\\n\"\n",
        "            f\"длина маршрута: {self.length} км\"\n",
        "        )\n",
        "\n",
        "\n",
        "intercity_bus = Bus(100, 35, 'Moscow', 'Odintsovo', 50, 8.2, 30)\n",
        "city_bus = Bus(7, 30, 'Kitay-Gorod', 'Taganskaya', 50, 8.2, 10)\n",
        "taxi = Taxi(15, 3, 'Moscow', 'Korolev', 4, 8.2, 20)\n",
        "\n",
        "'''сравнение различных автобусов'''\n",
        "print(intercity_bus < city_bus)\n",
        "print(taxi > city_bus)\n",
        "print(taxi == city_bus)\n",
        "print(city_bus >= intercity_bus)\n",
        "print(intercity_bus != taxi)\n",
        "\n",
        "'''вывод информации об автобусах'''\n",
        "print(intercity_bus)\n",
        "print()\n",
        "print(city_bus)\n",
        "print()\n",
        "print(taxi)\n",
        "print(\"\\nвсе транспортные средства:\")\n",
        "print(Bus.all_buses)\n",
        "\n",
        "'''вывод загруженности'''\n",
        "average_load = Bus.get_average_load()\n",
        "print(f\"средняя загрузка всех автобусов: {average_load:.2f}%\")\n",
        "\n",
        "'''проверка загрузки'''\n",
        "print(Bus.check_load(intercity_bus, 60))\n",
        "print(Bus.check_load(taxi, 59))\n",
        "print(Bus.check_load(city_bus, 61))"
      ],
      "metadata": {
        "id": "8elCDcPju40Y",
        "outputId": "9c43d125-936e-454d-8815-67ea591737e1",
        "colab": {
          "base_uri": "https://localhost:8080/"
        }
      },
      "execution_count": 48,
      "outputs": [
        {
          "output_type": "stream",
          "name": "stdout",
          "text": [
            "False\n",
            "False\n",
            "False\n",
            "True\n",
            "True\n",
            "автобус №100\n",
            "маршрут: Moscow → Odintsovo\n",
            "пассажиров: 35/50\n",
            "расход топлива: 8.2 л/км\n",
            "длина маршрута: 30 км\n",
            "\n",
            "автобус №7\n",
            "маршрут: Kitay-Gorod → Taganskaya\n",
            "пассажиров: 30/50\n",
            "расход топлива: 8.2 л/км\n",
            "длина маршрута: 10 км\n",
            "\n",
            "такси №15\n",
            "маршрут: Moscow → Korolev\n",
            "пассажиров: 3/4\n",
            "детское кресло: нет\n",
            "длина маршрута: 20 км\n",
            "\n",
            "все транспортные средства:\n",
            "[Bus(number=100, route='Moscow → Odintsovo'), Bus(number=7, route='Kitay-Gorod → Taganskaya'), Bus(number=15, route='Moscow → Korolev')]\n",
            "средняя загрузка всех автобусов: 65.38%\n",
            "False\n",
            "False\n",
            "True\n"
          ]
        }
      ]
    },
    {
      "cell_type": "markdown",
      "source": [
        "В классе автобусы определите метод подсчета количество топливо по заданному\n",
        "маршруту."
      ],
      "metadata": {
        "id": "ZzGKqAKKu5Og"
      }
    },
    {
      "cell_type": "code",
      "source": [
        "def calculate_fuel_consumption(self):\n",
        "    '''метод для подсчета количества топлива по заданному маршруту'''\n",
        "    return self.gas * self.lenght\n",
        "\n",
        "print(f\"количество топлива для междугороднего автобуса: {intercity_bus.calculate_fuel_consumption()} литров\")\n",
        "print(f\"количество топлива для городского автобуса: {city_bus.calculate_fuel_consumption()} литров\")"
      ],
      "metadata": {
        "id": "wIXarYrTu7CM",
        "outputId": "6980c9ad-0332-4106-bd8e-33f7639452c1",
        "colab": {
          "base_uri": "https://localhost:8080/"
        }
      },
      "execution_count": 9,
      "outputs": [
        {
          "output_type": "stream",
          "name": "stdout",
          "text": [
            "количество топлива для междугороднего автобуса: 245.99999999999997 литров\n",
            "количество топлива для городского автобуса: 82.0 литров\n"
          ]
        }
      ]
    },
    {
      "cell_type": "markdown",
      "source": [
        "Организуйте проверку корректного создание объекта класса на основание\n",
        "максимальной вместительности."
      ],
      "metadata": {
        "id": "Wx3xOBsTu_Kf"
      }
    },
    {
      "cell_type": "code",
      "source": [
        "class Bus:\n",
        "  '''класс автобусов'''\n",
        "  def __init__(self, number, count_of_passengers, route_from, route_to, max_capacity, gas, lenght) :\n",
        "        self.number = number\n",
        "        self.count_of_passengers = count_of_passengers\n",
        "        self.route_from = route_from\n",
        "        self.route_to = route_to\n",
        "        self.__max_capacity = max_capacity\n",
        "        self.gas = gas\n",
        "        self.lenght = lenght\n",
        "        if count_of_passengers > max_capacity:\n",
        "          raise ValueError(\n",
        "          f\"невозможно создать автобус: количество пассажиров ({count_of_passengers}) \"\n",
        "          f\"превышает максимальную вместимость ({max_capacity})\"\n",
        "          )"
      ],
      "metadata": {
        "id": "bcMg4upGvI-4"
      },
      "execution_count": 18,
      "outputs": []
    },
    {
      "cell_type": "markdown",
      "source": [
        "Организуйте в классе верхнего уровня, хранение всех созданных\n",
        "объектов(экземпляров) класса."
      ],
      "metadata": {
        "id": "ixNAO8mXvJXz"
      }
    },
    {
      "cell_type": "code",
      "source": [
        "intercity_bus = Bus(100, 35, 'Moscow', 'Odintsovo', 50, 8.2, 30)\n",
        "city_bus = Bus(7, 30, 'Kitay-Gorod', 'Taganskaya', 50, 8.2, 10)\n",
        "taxi = Taxi(15, 15, 'Moscow', 'Korolev', 20, 8.2, 20)"
      ],
      "metadata": {
        "id": "qPsBgD4nvLBx"
      },
      "execution_count": 19,
      "outputs": []
    },
    {
      "cell_type": "markdown",
      "source": [
        "С помощью магических методов организуйте вывод информации об объектах\n",
        "автобусов."
      ],
      "metadata": {
        "id": "lF1rxX4ivLai"
      }
    },
    {
      "cell_type": "code",
      "source": [
        "print(intercity_bus)\n",
        "print()\n",
        "print(city_bus)\n",
        "print()\n",
        "print(taxi)\n",
        "print(\"\\nвсе транспортные средства:\")\n",
        "print(Bus.all_buses)"
      ],
      "metadata": {
        "id": "FOAYR2acvNut",
        "outputId": "6a2e7031-b803-4bfd-bb61-ab3162515f27",
        "colab": {
          "base_uri": "https://localhost:8080/"
        }
      },
      "execution_count": 31,
      "outputs": [
        {
          "output_type": "stream",
          "name": "stdout",
          "text": [
            "автобус №100\n",
            "маршрут: Moscow → Odintsovo\n",
            "пассажиров: 35/50\n",
            "расход топлива: 8.2 л/км\n",
            "длина маршрута: 30 км\n",
            "\n",
            "автобус №7\n",
            "маршрут: Kitay-Gorod → Taganskaya\n",
            "пассажиров: 30/50\n",
            "расход топлива: 8.2 л/км\n",
            "длина маршрута: 10 км\n",
            "\n",
            "такси №15\n",
            "маршрут: Moscow → Korolev\n",
            "пассажиров: 3/4\n",
            "детское кресло: нет\n",
            "длина маршрута: 20 км\n",
            "\n",
            "все транспортные средства:\n",
            "[Bus(number=100, route='Moscow → Odintsovo'), Bus(number=7, route='Kitay-Gorod → Taganskaya'), Bus(number=15, route='Moscow → Korolev')]\n"
          ]
        }
      ]
    },
    {
      "cell_type": "markdown",
      "source": [
        "С помощью магических методов организуйте сравнение автобусов, используя\n",
        "максимальную вместимость."
      ],
      "metadata": {
        "id": "sqlFtuZDvOB_"
      }
    },
    {
      "cell_type": "code",
      "source": [
        "print(intercity_bus < city_bus)\n",
        "print(taxi > city_bus)\n",
        "print(taxi == city_bus)\n",
        "print(city_bus >= intercity_bus)\n",
        "print(intercity_bus != taxi)"
      ],
      "metadata": {
        "id": "My7jZ568vPwJ",
        "outputId": "357425c9-24fc-4d80-a364-8d4331edb857",
        "colab": {
          "base_uri": "https://localhost:8080/"
        }
      },
      "execution_count": 33,
      "outputs": [
        {
          "output_type": "stream",
          "name": "stdout",
          "text": [
            "False\n",
            "False\n",
            "False\n",
            "True\n",
            "True\n"
          ]
        }
      ]
    },
    {
      "cell_type": "markdown",
      "source": [
        "Создайте метод classmethod для определение средней загрузки всех созданных объектов\n",
        "автобусов."
      ],
      "metadata": {
        "id": "2qjJ300FvRvv"
      }
    },
    {
      "cell_type": "code",
      "source": [
        "print(f\"средняя загрузка всех автобусов: {average_load:.2f}%\")"
      ],
      "metadata": {
        "id": "QQXMUTmEvR_T",
        "outputId": "741b7000-e17a-46c1-8034-8a7d35c596db",
        "colab": {
          "base_uri": "https://localhost:8080/"
        }
      },
      "execution_count": 47,
      "outputs": [
        {
          "output_type": "stream",
          "name": "stdout",
          "text": [
            "средняя загрузка всех автобусов: 65.38%\n"
          ]
        }
      ]
    },
    {
      "cell_type": "markdown",
      "source": [
        "Создайте метод staticmethod, который принимает объект и загрузку пассажирами и\n",
        "возвращает True и False если загрузка совпадает."
      ],
      "metadata": {
        "id": "zr9Hmi4TvShe"
      }
    },
    {
      "cell_type": "code",
      "source": [
        "print(Bus.check_load(intercity_bus, 60))\n",
        "print(Bus.check_load(taxi, 59))\n",
        "print(Bus.check_load(city_bus, 61))"
      ],
      "metadata": {
        "id": "dwZE6FoqvT5W",
        "outputId": "0939176d-abf4-4728-815d-1c27311643f2",
        "colab": {
          "base_uri": "https://localhost:8080/"
        }
      },
      "execution_count": 49,
      "outputs": [
        {
          "output_type": "stream",
          "name": "stdout",
          "text": [
            "False\n",
            "False\n",
            "True\n"
          ]
        }
      ]
    },
    {
      "cell_type": "markdown",
      "source": [
        "Сделайте документирование классов."
      ],
      "metadata": {
        "id": "BOvksk_9vUPG"
      }
    },
    {
      "cell_type": "code",
      "source": [
        "'''сделала (^_^)'''"
      ],
      "metadata": {
        "id": "0iU1pWcCvV7J",
        "outputId": "c8f5ca10-a21b-43c0-81f9-2e47f9337bcb",
        "colab": {
          "base_uri": "https://localhost:8080/",
          "height": 35
        }
      },
      "execution_count": 50,
      "outputs": [
        {
          "output_type": "execute_result",
          "data": {
            "text/plain": [
              "'сделала (^_^)'"
            ],
            "application/vnd.google.colaboratory.intrinsic+json": {
              "type": "string"
            }
          },
          "metadata": {},
          "execution_count": 50
        }
      ]
    }
  ],
  "metadata": {
    "colab": {
      "name": "Добро пожаловать в Colaboratory!",
      "provenance": []
    },
    "kernelspec": {
      "display_name": "Python 3",
      "name": "python3"
    }
  },
  "nbformat": 4,
  "nbformat_minor": 0
}